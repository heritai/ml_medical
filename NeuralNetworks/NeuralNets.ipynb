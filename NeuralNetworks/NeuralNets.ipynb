{
  "nbformat": 4,
  "nbformat_minor": 0,
  "metadata": {
    "colab": {
      "provenance": [],
      "authorship_tag": "ABX9TyNNFdWXOlvTDtpE0AukDuJm",
      "include_colab_link": true
    },
    "kernelspec": {
      "name": "python3",
      "display_name": "Python 3"
    }
  },
  "cells": [
    {
      "cell_type": "markdown",
      "metadata": {
        "id": "view-in-github",
        "colab_type": "text"
      },
      "source": [
        "<a href=\"https://colab.research.google.com/github/yousef-taheri/Projects/blob/master/NeuralNetworks/NeuralNets.ipynb\" target=\"_parent\"><img src=\"https://colab.research.google.com/assets/colab-badge.svg\" alt=\"Open In Colab\"/></a>"
      ]
    },
    {
      "cell_type": "code",
      "metadata": {
        "id": "JrwBlGM6eBbb",
        "outputId": "a026b6b0-c59c-4041-f78d-fe55eb294582",
        "colab": {
          "base_uri": "https://localhost:8080/",
          "height": 36
        }
      },
      "source": [
        "import keras\n",
        "from keras.models import Sequential\n",
        "from sklearn.neural_network import MLPClassifier\n",
        "import tensorflow as tf\n",
        "from tensorflow import keras\n",
        "from tensorflow.keras import Sequential\n",
        "from tensorflow.keras.layers import Activation, Dense\n",
        "from tensorflow.keras.wrappers.scikit_learn import KerasClassifier\n",
        "from sklearn.model_selection import StratifiedKFold\n",
        "from sklearn.model_selection import KFold\n",
        "import pandas as pd\n",
        "import numpy as np"
      ],
      "execution_count": null,
      "outputs": [
        {
          "output_type": "stream",
          "text": [
            "Using TensorFlow backend.\n"
          ],
          "name": "stderr"
        }
      ]
    },
    {
      "cell_type": "code",
      "metadata": {
        "id": "6AqhXRJZf_2F"
      },
      "source": [
        "Golub_X = pd.read_csv('data/Golub_X',sep=' ',header=None) # Observations\n",
        "Golub_y = pd.read_csv('data/Golub_y',sep=' ',header=None) # Classes\n",
        "Golub_X=Golub_X.values\n",
        "Golub_y=Golub_y.values.squeeze()\n",
        "\n",
        "X = pd.read_csv('data/Breast.txt',sep=' ')\n",
        "Breast_y = X.values[:,30] # Classes\n",
        "Breast_y=Breast_y==1\n",
        "Breast_X = X.values[:,0:29] # Observations\n",
        "\n"
      ],
      "execution_count": null,
      "outputs": []
    },
    {
      "cell_type": "code",
      "metadata": {
        "id": "PF2mpSbkIMuj"
      },
      "source": [
        "#read splex dataset\n",
        "SPLEX_env=pd.read_csv('data/SPLEX_env.txt',sep=' ')\n",
        "SPLEX_host=pd.read_csv('data/SPLEX_host.txt',sep=' ')\n",
        "SPLEX_micro=pd.read_csv('data/SPLEX_micro.txt',sep=' ')\n",
        "\n",
        "SPLEX_class=pd.read_csv('data/classes.csv',sep=',')\n",
        "\n",
        "#remove rows where SPLEX class in NA\n",
        "non_NA_indexs=~SPLEX_class.isna().squeeze().values\n",
        "\n",
        "SPLEX_env=SPLEX_env.iloc[non_NA_indexs,:]\n",
        "SPLEX_host=SPLEX_host.iloc[non_NA_indexs,:]\n",
        "SPLEX_micro=SPLEX_micro.iloc[non_NA_indexs,:]\n",
        "SPLEX_class=SPLEX_class.iloc[non_NA_indexs,:]\n",
        "\n",
        "SPLEX=pd.concat([SPLEX_env,SPLEX_host,SPLEX_micro],axis=1)"
      ],
      "execution_count": null,
      "outputs": []
    },
    {
      "cell_type": "code",
      "metadata": {
        "id": "yo7HCO59eSbc"
      },
      "source": [
        "sk_model = MLPClassifier(solver='lbfgs', alpha=1e-7,hidden_layer_sizes=(10, 5))\n",
        "#sk_model.fit(XTrain, yTrain)\n",
        "#yTest_predicted =sk_model.predict(XTest)"
      ],
      "execution_count": null,
      "outputs": []
    },
    {
      "cell_type": "code",
      "metadata": {
        "id": "zUAWAjTk7YtI",
        "outputId": "0a6261ca-f8c2-4a60-977d-36889950e218",
        "colab": {
          "base_uri": "https://localhost:8080/",
          "height": 55
        }
      },
      "source": [
        "from sklearn.model_selection import cross_val_score\n",
        "print('10 fold accuracy score for Gloub data',np.mean(cross_val_score(sk_model,Golub_X, Golub_y, cv=10)))\n",
        "print('10 fold accuracy score for Breast cancer data',np.mean(cross_val_score(sk_model,Breast_X, Breast_y, cv=10)))"
      ],
      "execution_count": null,
      "outputs": [
        {
          "output_type": "stream",
          "text": [
            "10 fold accuracy score for Gloub data 0.9571428571428573\n",
            "10 fold accuracy score for Breast cancer data 0.9612468671679197\n"
          ],
          "name": "stdout"
        }
      ]
    },
    {
      "cell_type": "code",
      "metadata": {
        "id": "QpyQhjip8k3Q"
      },
      "source": [
        "#keras MLP classifier with cv score calculation\n",
        "def keras_cross_val_score(X,y):\n",
        "  in_dim=X.shape[1]\n",
        "  model = Sequential()\n",
        "  model.add(Dense(32, activation='relu',input_dim=in_dim))\n",
        "  model.add(Dense(2, activation='softmax'))\n",
        "  model.compile(optimizer='rmsprop',\n",
        "              loss='sparse_categorical_crossentropy',\n",
        "              metrics=['accuracy'],)\n",
        "\n",
        "  batch_size=10\n",
        "  epochs=100\n",
        "\n",
        "  skf=StratifiedKFold(n_splits=10)\n",
        "\n",
        "  scores=[]\n",
        "  for train,test in skf.split(X,y):\n",
        "    model.fit(X[train], y[train],batch_size=batch_size,verbose=0,epochs=epochs,validation_split=0.1)\n",
        "    score = model.evaluate(X[test], y[test],batch_size=batch_size, verbose=0)\n",
        "    scores.append(score[1])\n",
        "  return scores\n"
      ],
      "execution_count": null,
      "outputs": []
    },
    {
      "cell_type": "code",
      "metadata": {
        "id": "pe0U_HS0efFv",
        "outputId": "71666c7d-cd3b-43c6-ff61-99ee71e2bcc3",
        "colab": {
          "base_uri": "https://localhost:8080/",
          "height": 36
        }
      },
      "source": [
        "keras_cv_score_Breast=np.mean(keras_cross_val_score(Breast_X, Breast_y))\n",
        "print(\"keras model 10 fold cv score\",keras_cv_score_Breast)"
      ],
      "execution_count": null,
      "outputs": [
        {
          "output_type": "stream",
          "text": [
            "keras model 10 fold cv score 0.9911654174327851\n"
          ],
          "name": "stdout"
        }
      ]
    },
    {
      "cell_type": "code",
      "metadata": {
        "id": "X7vWOL6X9tZD",
        "outputId": "6325a70c-ee50-4ffa-b1ba-a8aeed1d67aa",
        "colab": {
          "base_uri": "https://localhost:8080/",
          "height": 36
        }
      },
      "source": [
        "keras_cv_score_Breast=np.mean(keras_cross_val_score(Golub_X, Golub_y))\n",
        "print(\"keras model 10 fold cv score\",keras_cv_score_Breast)"
      ],
      "execution_count": null,
      "outputs": [
        {
          "output_type": "stream",
          "text": [
            "keras model 10 fold cv score 0.9589285731315613\n"
          ],
          "name": "stdout"
        }
      ]
    },
    {
      "cell_type": "code",
      "metadata": {
        "id": "McWMRbpQOOrA"
      },
      "source": [
        "Gene_count_y=(SPLEX_class=='HGC').squeeze().values"
      ],
      "execution_count": null,
      "outputs": []
    },
    {
      "cell_type": "code",
      "metadata": {
        "id": "PJR3LvfBN3Rv",
        "outputId": "285d02be-1212-435d-b019-4169f3a654f4",
        "colab": {
          "base_uri": "https://localhost:8080/",
          "height": 36
        }
      },
      "source": [
        "keras_cv_score_SPLEX_env=np.mean(keras_cross_val_score(SPLEX_env.values, Gene_count_y))\n",
        "print(\"keras model 10 fold cv score\",keras_cv_score_SPLEX_env)"
      ],
      "execution_count": null,
      "outputs": [
        {
          "output_type": "stream",
          "text": [
            "keras model 10 fold cv score 0.8050000011920929\n"
          ],
          "name": "stdout"
        }
      ]
    },
    {
      "cell_type": "code",
      "metadata": {
        "id": "5bgx7ojVORHj",
        "outputId": "666f59d4-cec4-4119-ed5b-0b9a4d8dc5c7",
        "colab": {
          "base_uri": "https://localhost:8080/",
          "height": 36
        }
      },
      "source": [
        "keras_cv_score_SPLEX_host=np.mean(keras_cross_val_score(SPLEX_host.values, Gene_count_y))\n",
        "print(\"keras model 10 fold cv score\",keras_cv_score_SPLEX_host)"
      ],
      "execution_count": null,
      "outputs": [
        {
          "output_type": "stream",
          "text": [
            "keras model 10 fold cv score 0.8700000017881393\n"
          ],
          "name": "stdout"
        }
      ]
    },
    {
      "cell_type": "code",
      "metadata": {
        "id": "gRtVGxfjIJVT",
        "outputId": "3542d4cd-15c1-49c1-85c6-fbad1bf70dd1",
        "colab": {
          "base_uri": "https://localhost:8080/",
          "height": 36
        }
      },
      "source": [
        "keras_cv_score_SPLEX_micro=np.mean(keras_cross_val_score(SPLEX_micro.values, Gene_count_y))\n",
        "print(\"keras model 10 fold cv score\",keras_cv_score_SPLEX_micro)"
      ],
      "execution_count": null,
      "outputs": [
        {
          "output_type": "stream",
          "text": [
            "keras model 10 fold cv score 0.9150000035762786\n"
          ],
          "name": "stdout"
        }
      ]
    },
    {
      "cell_type": "code",
      "metadata": {
        "id": "Fynnl1ZlQ63v",
        "outputId": "914bfbfd-684d-4f57-da29-aaf3ddf94fb4",
        "colab": {
          "base_uri": "https://localhost:8080/",
          "height": 36
        }
      },
      "source": [
        "keras_cv_score_SPLEX=np.mean(keras_cross_val_score(SPLEX.values, Gene_count_y))\n",
        "print(\"keras model 10 fold cv score\",keras_cv_score_SPLEX)"
      ],
      "execution_count": null,
      "outputs": [
        {
          "output_type": "stream",
          "text": [
            "keras model 10 fold cv score 0.8850000023841857\n"
          ],
          "name": "stdout"
        }
      ]
    }
  ]
}