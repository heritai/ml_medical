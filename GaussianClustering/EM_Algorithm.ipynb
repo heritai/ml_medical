{
  "nbformat": 4,
  "nbformat_minor": 0,
  "metadata": {
    "colab": {
      "provenance": [],
      "authorship_tag": "ABX9TyNi6YsHtf5zKWNZk3bU6qBZ",
      "include_colab_link": true
    },
    "kernelspec": {
      "name": "python3",
      "display_name": "Python 3"
    }
  },
  "cells": [
    {
      "cell_type": "markdown",
      "metadata": {
        "id": "view-in-github",
        "colab_type": "text"
      },
      "source": [
        "<a href=\"https://colab.research.google.com/github/yousef-taheri/Projects/blob/master/GaussianClustering/EM_Algorithm.ipynb\" target=\"_parent\"><img src=\"https://colab.research.google.com/assets/colab-badge.svg\" alt=\"Open In Colab\"/></a>"
      ]
    },
    {
      "cell_type": "markdown",
      "source": [
        "> The objective of this project is to understand the Expectation-Maximization algorithm and learn how to apply it in practical scenarios."
      ],
      "metadata": {
        "id": "xJc1IyevjgSQ"
      }
    },
    {
      "cell_type": "code",
      "metadata": {
        "id": "QI9J0qaw-v-i"
      },
      "source": [
        "import numpy as np\n",
        "import matplotlib.pyplot as plt\n",
        "import random\n",
        "from sklearn import mixture\n",
        "from sklearn.datasets import make_classification\n",
        "from sklearn.datasets import make_blobs\n",
        "from sklearn.datasets import make_moons\n",
        "from sklearn import metrics\n",
        "import pandas as pd"
      ],
      "execution_count": null,
      "outputs": []
    },
    {
      "cell_type": "code",
      "metadata": {
        "id": "_vpZ65p4-PVO"
      },
      "source": [
        "mu1, sigma1 = 0, 0.3 # mean and standard deviation\n",
        "s1 = np.random.normal(mu1, sigma1, 100)\n",
        "y1 = np.repeat(0, 100)\n",
        "mu2, sigma2 = 2, 0.3 # mean and standard deviation\n",
        "s2 = np.random.normal(mu2, sigma2, 100)\n",
        "y2 = np.repeat(1, 100)\n",
        "mu = [mu1, mu2]\n",
        "sigma = [sigma1, sigma2]\n",
        "data = np.concatenate([s1,s2])\n",
        "y = np.concatenate([y1,y2])"
      ],
      "execution_count": null,
      "outputs": []
    },
    {
      "cell_type": "code",
      "metadata": {
        "id": "ziJCq8zm_Fhs",
        "outputId": "5b66c8e9-f298-40b5-aaf9-1d22b0f776f3",
        "colab": {
          "base_uri": "https://localhost:8080/",
          "height": 524
        }
      },
      "source": [
        "def pr_single_comp(mu, sigma, x):\n",
        "  prob = []\n",
        "  for i in range(0, x.shape[0]):\n",
        "    prob.append(np.exp(-0.5*((x[i,]-mu)/sigma)**2)/sigma)\n",
        "  return prob\n",
        "\n",
        "def pr_single_normalized(mu,sigma, x):\n",
        "  unnorm_prob = pr_single_comp(mu, sigma, x)\n",
        "  normalization = np.sum(pr_single_comp(mu, sigma, x), axis=1)\n",
        "  prob = []\n",
        "  for i in range(0, len(unnorm_prob)) :\n",
        "    prob.append(unnorm_prob[:][i]/normalization[i])\n",
        "  return prob\n",
        "\n",
        "def update_mu(x,mu,sigma) :\n",
        "  prob = pr_single_normalized(mu,sigma,x)\n",
        "  hat_mu = [0, 0]\n",
        "  for i in range(0, len(prob)) :\n",
        "    hat_mu = hat_mu + prob[i][:]*x[i,]\n",
        "  hat_mu = hat_mu/np.sum(pr_single_normalized(mu, sigma, x), axis=0)\n",
        "  return hat_mu\n",
        "\n",
        "\n",
        "def update_sigma(x,mu,sigma) :\n",
        "  prob = pr_single_normalized(mu,sigma,x)\n",
        "  hat_sigma = [0, 0]\n",
        "  for i in range(0, len(prob)) :\n",
        "    hat_sigma = hat_sigma + prob[i][:]*(x[i,] - mu)**2\n",
        "  hat_sigma = hat_sigma/np.sum(pr_single_normalized(mu, sigma, x), axis=0)\n",
        "  return hat_sigma\n",
        "\n",
        "\n",
        "mu_old = [random.uniform(-2, 2), random.uniform(0, 4)]\n",
        "sigma_old = [0.3, 0.3]\n",
        "NbIter = 10\n",
        "\n",
        "\n",
        "# Learning procedure (optimization)\n",
        "for iter in range(1, NbIter):\n",
        "  hat_mu = update_mu(data,mu_old,sigma_old)\n",
        "  hat_sigma = update_sigma(data,mu_old,sigma_old)\n",
        "  print('iter', iter)\n",
        "  print('updated mu = ',hat_mu)\n",
        "  print('updated sigma = ',hat_sigma)\n",
        "  mu_old = hat_mu\n",
        "  sigma_old = hat_sigma + 1e-13"
      ],
      "execution_count": null,
      "outputs": [
        {
          "output_type": "stream",
          "text": [
            "iter 1\n",
            "updated mu =  [-0.01593619  1.96738275]\n",
            "updated sigma =  [0.334036   0.25928225]\n",
            "iter 2\n",
            "updated mu =  [-0.01331995  1.9703084 ]\n",
            "updated sigma =  [0.09243455 0.08996396]\n",
            "iter 3\n",
            "updated mu =  [-0.02109555  1.96357731]\n",
            "updated sigma =  [0.08482993 0.09549934]\n",
            "iter 4\n",
            "updated mu =  [-0.02109557  1.9635773 ]\n",
            "updated sigma =  [0.08476945 0.09545404]\n",
            "iter 5\n",
            "updated mu =  [-0.02109557  1.9635773 ]\n",
            "updated sigma =  [0.08476945 0.09545404]\n",
            "iter 6\n",
            "updated mu =  [-0.02109557  1.9635773 ]\n",
            "updated sigma =  [0.08476945 0.09545404]\n",
            "iter 7\n",
            "updated mu =  [-0.02109557  1.9635773 ]\n",
            "updated sigma =  [0.08476945 0.09545404]\n",
            "iter 8\n",
            "updated mu =  [-0.02109557  1.9635773 ]\n",
            "updated sigma =  [0.08476945 0.09545404]\n",
            "iter 9\n",
            "updated mu =  [-0.02109557  1.9635773 ]\n",
            "updated sigma =  [0.08476945 0.09545404]\n"
          ],
          "name": "stdout"
        }
      ]
    },
    {
      "cell_type": "code",
      "metadata": {
        "id": "dQEsRdHIAG8A",
        "outputId": "c3e49dff-8b84-4c10-dede-248ecf8f3a58",
        "colab": {
          "base_uri": "https://localhost:8080/",
          "height": 297
        }
      },
      "source": [
        "# First simulated data set\n",
        "plt.title(\"Two informative features, one cluster per class\", fontsize='small')\n",
        "X1, Y1 = make_classification(n_samples=200, n_features=2, n_redundant=0, n_informative=2,n_clusters_per_class=1)\n",
        "plt.scatter(X1[:, 0], X1[:, 1], marker='o', c=Y1,s=25, edgecolor='k')\n",
        "# Second simulated data set\n",
        "plt.title(\"Three blobs\", fontsize='small')\n",
        "X2, Y2 = make_blobs(n_samples=200, n_features=2, centers=3)\n",
        "plt.scatter(X2[:, 0], X2[:, 1], marker='o', c=Y2, s=25, edgecolor='k')\n",
        "# Third simulated data set\n",
        "plt.title(\"Non-linearly separated data sets\", fontsize='small')\n",
        "X3, Y3 = make_moons(n_samples=200, shuffle=True, noise=None, random_state=None)\n",
        "plt.scatter(X3[:, 0], X3[:, 1], marker='o', c=Y3, s=25, edgecolor='k')"
      ],
      "execution_count": null,
      "outputs": [
        {
          "output_type": "execute_result",
          "data": {
            "text/plain": [
              "<matplotlib.collections.PathCollection at 0x7f9f3cb964a8>"
            ]
          },
          "metadata": {
            "tags": []
          },
          "execution_count": 4
        },
        {
          "output_type": "display_data",
          "data": {
            "image/png": "[encoded data removed]",
            "text/plain": [
              "<Figure size 432x288 with 1 Axes>"
            ]
          },
          "metadata": {
            "tags": []
          }
        }
      ]
    },
    {
      "cell_type": "code",
      "metadata": {
        "id": "vBEvGItxOTdb"
      },
      "source": [
        "def pr_single_comp2d(mu, sigma, x):\n",
        "  prob = []\n",
        "  mu1=mu[0]\n",
        "  mu2=mu[1]\n",
        "  sigma1=sigma[0]\n",
        "  sigma2=sigma[1]\n",
        "  for i in range(0, x.shape[0]):\n",
        "    prob1=np.exp(-0.5*((x[i,]-mu1).dot(np.linalg.inv(sigma1)).dot((x[i,]-mu1))))/np.linalg.det(sigma1)\n",
        "    prob2=np.exp(-0.5*((x[i,]-mu2).dot(np.linalg.inv(sigma2)).dot((x[i,]-mu2))))/np.linalg.det(sigma2)\n",
        "    prob.append([prob1,prob2])\n",
        "  return prob\n",
        "\n",
        "def pr_single_normalized2d(mu,sigma, x):\n",
        "  unnorm_prob = pr_single_comp2d(mu, sigma, x)\n",
        "  normalization = np.sum(unnorm_prob, axis=1)\n",
        "  prob = []\n",
        "  for i in range(0, len(unnorm_prob)) :\n",
        "    prob.append(unnorm_prob[:][i]/normalization[i])\n",
        "  return prob\n",
        "\n",
        "def update_mu2d(x,mu,sigma) :\n",
        "  prob = pr_single_normalized2d(mu,sigma,x)\n",
        "  hat_mu = np.array([[0,0], [0,0]])\n",
        "  for i in range(0, len(prob)):\n",
        "    hat_mu = hat_mu + [j*x[i,] for j in prob[i][:]]\n",
        "  hat_mu = hat_mu/np.sum(prob, axis=0)\n",
        "  return hat_mu\n",
        "\n",
        "def update_sigma2d(x,mu,sigma) :\n",
        "  prob = pr_single_normalized2d(mu,sigma,x)\n",
        "  hat_sigma = np.array([[[0,0],[0,0]],[[0,0],[0,0]]])\n",
        "  for i in range(0, len(prob)) :\n",
        "    hat_sigma = hat_sigma + [j*(x[i,] - mu).dot((x[i,] - mu)) for j in prob[i][:]]\n",
        "  hat_sigma = hat_sigma/np.sum(prob, axis=0)\n",
        "  return hat_sigma"
      ],
      "execution_count": null,
      "outputs": []
    },
    {
      "cell_type": "code",
      "metadata": {
        "id": "oPp0933VH6MD"
      },
      "source": [
        "mu_old = np.random.uniform(-2,2,size=(2,2))\n",
        "#sigma_old = [[[.05,.1],[0.14,.07]],[[.12,.02],[.22,.11]]]\n",
        "sigma_old = [[[.5,1],[0.5,.75]],[[1,2],[2,1]]]\n",
        "NbIter = 10\n",
        "\n",
        "\n",
        "# Learning procedure (optimization)\n",
        "for iter in range(1, NbIter):\n",
        "  hat_mu = update_mu2d(X2,mu_old,sigma_old)\n",
        "  hat_sigma = update_sigma2d(X2,mu_old,sigma_old)\n",
        "  print('iter', iter)\n",
        "  print('updated mu = ',hat_mu)\n",
        "  print('updated sigma = ',hat_sigma)\n",
        "  mu_old = hat_mu\n",
        "  sigma_old = hat_sigma + 1e-13"
      ],
      "execution_count": null,
      "outputs": []
    },
    {
      "cell_type": "code",
      "metadata": {
        "id": "wm4SmbeQiKo4"
      },
      "source": [
        "def bestGM(X):\n",
        "  lowest_bic = np.infty\n",
        "  bic = []\n",
        "  n_components_range = range(1, 5)\n",
        "  cv_types = ['spherical', 'tied', 'diag', 'full']\n",
        "  for cv_type in cv_types:\n",
        "    for n_components in n_components_range:\n",
        "      # Fit a Gaussian mixture with EM\n",
        "      gmm = mixture.GaussianMixture(n_components=n_components,covariance_type=cv_type)\n",
        "      gmm.fit(X)\n",
        "      bic.append(gmm.bic(X))\n",
        "      if bic[-1] < lowest_bic:\n",
        "        lowest_bic = bic[-1]\n",
        "        best_gmm = gmm\n",
        "  y_predicted = best_gmm.predict(X)\n",
        "  return y_predicted"
      ],
      "execution_count": null,
      "outputs": []
    },
    {
      "cell_type": "code",
      "metadata": {
        "id": "xmqLb2jyiiA2",
        "colab": {
          "base_uri": "https://localhost:8080/",
          "height": 73
        },
        "outputId": "1e384746-61ee-47f3-9eb3-66d5bf919464"
      },
      "source": [
        "print(\"homogenity Score for X1 :\",metrics.homogeneity_score(bestGM(X1),Y1))\n",
        "print(\"homogenity Score for X2 :\",metrics.homogeneity_score(bestGM(X2),Y2))\n",
        "print(\"homogenity Score for X3 :\",metrics.homogeneity_score(bestGM(X3),Y3))"
      ],
      "execution_count": null,
      "outputs": [
        {
          "output_type": "stream",
          "text": [
            "homogenity Score for X1 : 0.9596005177968417\n",
            "homogenity Score for X2 : 1.0\n",
            "homogenity Score for X3 : 0.5023619203781766\n"
          ],
          "name": "stdout"
        }
      ]
    },
    {
      "cell_type": "code",
      "metadata": {
        "id": "7IwuH43WhpkR"
      },
      "source": [
        "url=\"https://archive.ics.uci.edu/ml/machine-learning-databases/breast-cancer-wisconsin/wdbc.data\"\n",
        "breast_data=pd.read_csv(url,header=None)\n",
        "\n",
        "breast_cancer_X=breast_data.drop([0,1],axis=1)\n",
        "breast_cancer_Y=breast_data[1]"
      ],
      "execution_count": null,
      "outputs": []
    },
    {
      "cell_type": "code",
      "metadata": {
        "id": "h4p5yozDh1CG"
      },
      "source": [
        "url='https://archive.ics.uci.edu/ml/machine-learning-databases/00342/Data_Cortex_Nuclear.xls'\n",
        "mice_data = pd.read_excel(url,'Hoja1')\n",
        "\n",
        "mice_data_X=mice_data.drop(['MouseID','Genotype','Treatment','Behavior','class'],axis=1)\n",
        "mice_data_Y=mice_data['class']\n",
        "\n",
        "#fill missing values\n",
        "mice_data_X=mice_data_X.fillna(value=mice_data_X.mean(axis=0).to_dict())"
      ],
      "execution_count": null,
      "outputs": []
    },
    {
      "cell_type": "code",
      "metadata": {
        "id": "S5F-fwWti0Wj",
        "colab": {
          "base_uri": "https://localhost:8080/",
          "height": 55
        },
        "outputId": "517872d8-5758-46fc-add0-4b705659374b"
      },
      "source": [
        "print(\"homogenity Score for breast_cancer :\",metrics.homogeneity_score(bestGM(breast_cancer_X),breast_cancer_Y))\n",
        "print(\"homogenity Score for mice_data :\",metrics.homogeneity_score(bestGM(mice_data_X),mice_data_Y))\n"
      ],
      "execution_count": null,
      "outputs": [
        {
          "output_type": "stream",
          "text": [
            "homogenity Score for breast_cancer : 0.7092182790386102\n",
            "homogenity Score for mice_data : 0.320795994662363\n"
          ],
          "name": "stdout"
        }
      ]
    }
  ]
}