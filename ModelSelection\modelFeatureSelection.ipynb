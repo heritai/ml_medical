{
  "nbformat": 4,
  "nbformat_minor": 0,
  "metadata": {
    "colab": {
      "provenance": [],
      "authorship_tag": "ABX9TyPU0GRJVmv49dbAFmHtZNC3",
      "include_colab_link": true
    },
    "kernelspec": {
      "name": "python3",
      "display_name": "Python 3"
    }
  },
  "cells": [
    {
      "cell_type": "markdown",
      "metadata": {
        "id": "view-in-github",
        "colab_type": "text"
      },
      "source": [
        "<a href=\"https://colab.research.google.com/github/yousef-taheri/Projects/blob/master/ModelSelection%5CmodelFeatureSelection.ipynb\" target=\"_parent\"><img src=\"https://colab.research.google.com/assets/colab-badge.svg\" alt=\"Open In Colab\"/></a>"
      ]
    },
    {
      "cell_type": "markdown",
      "source": [
        "Some techniques of feature selection."
      ],
      "metadata": {
        "id": "Lye60S9aqh76"
      }
    },
    {
      "cell_type": "code",
      "metadata": {
        "id": "eTqpySQAt5Tp"
      },
      "source": [
        "import numpy as np\n",
        "import pandas as pd\n",
        "import matplotlib.pyplot as plt\n",
        "from sklearn.linear_model import ElasticNet\n",
        "from sklearn.svm import LinearSVC\n",
        "from sklearn.feature_selection import SelectFromModel\n",
        "from sklearn import linear_model\n",
        "from sklearn.feature_selection import VarianceThreshold\n",
        "from sklearn.feature_selection import SelectFdr"
      ],
      "execution_count": null,
      "outputs": []
    },
    {
      "cell_type": "code",
      "metadata": {
        "id": "WTtFPmDKtIYE"
      },
      "source": [
        "Golub_X = pd.read_csv('data/Golub_X',sep=' ') # Observations\n",
        "Golub_y = pd.read_csv('data/Golub_y',sep=' ') # Classes\n",
        "\n",
        "X = pd.read_csv('data/Breast.txt',sep=' ')\n",
        "Breast_y = X.values[:,30] # Classes\n",
        "Breast_X = X.values[:,0:29] # Observations"
      ],
      "execution_count": null,
      "outputs": []
    },
    {
      "cell_type": "code",
      "metadata": {
        "id": "d8Y8YUDCukFx"
      },
      "source": [
        "\n",
        "sel1 = VarianceThreshold(threshold=.01)\n",
        "Golub_X_varTresh=sel1.fit_transform(Golub_X)\n",
        "\n",
        "sel2 = VarianceThreshold(threshold=.1)\n",
        "Breast_X_varTresh=sel2.fit_transform(Breast_X)"
      ],
      "execution_count": null,
      "outputs": []
    },
    {
      "cell_type": "code",
      "metadata": {
        "id": "IeXuF9dHwvs_"
      },
      "source": [
        "selFdr1=SelectFdr(alpha=0.01)\n",
        "Golub_X_selFdr=selFdr1.fit_transform(Golub_X,Golub_y.values.ravel())\n",
        "\n",
        "selFdr2=SelectFdr(alpha=0.05)\n",
        "Breast_X_selFdr=selFdr2.fit_transform(Breast_X,Breast_y)\n"
      ],
      "execution_count": null,
      "outputs": []
    },
    {
      "cell_type": "code",
      "metadata": {
        "id": "z0LXC6qWyALR",
        "outputId": "f0f4caeb-36b9-4ba2-da8a-e87ab76004ad",
        "colab": {
          "base_uri": "https://localhost:8080/",
          "height": 55
        }
      },
      "source": [
        "LassoReg1=linear_model.Lasso(alpha=0.01)\n",
        "LassoReg1.fit(Golub_X,Golub_y)\n",
        "print(\"nb of selected featurs on Golub dataset: \",LassoReg1.sparse_coef_.getnnz())\n",
        "\n",
        "LassoReg2=linear_model.Lasso(alpha=0.1)\n",
        "LassoReg2.fit(Breast_X,Breast_y)\n",
        "\n",
        "print(\"nb of selected featurs on Breast Cancer dataset: \",LassoReg2.sparse_coef_.getnnz())"
      ],
      "execution_count": null,
      "outputs": [
        {
          "output_type": "stream",
          "text": [
            "nb of selected featurs on Golub dataset:  28\n",
            "nb of selected featurs on Breast Cancer dataset:  6\n"
          ],
          "name": "stdout"
        }
      ]
    },
    {
      "cell_type": "code",
      "metadata": {
        "id": "s5KVtGHMzYOR",
        "outputId": "c06ac237-3487-4c83-ab8e-cc667ad81bf9",
        "colab": {
          "base_uri": "https://localhost:8080/",
          "height": 150
        }
      },
      "source": [
        "LinSVC1=LinearSVC(C=1, penalty=\"l1\", dual=False)\n",
        "LinSVC1.fit(Golub_X,Golub_y)\n",
        "print(\"nb of selected featurs on Golub dataset: \",np.sum(1-(LinSVC1.coef_==0)))\n",
        "\n",
        "LinSVC2=LinearSVC(C=1, penalty=\"l1\", dual=False)\n",
        "LinSVC2.fit(Breast_X,Breast_y)\n",
        "print(\"nb of selected featurs on Breast Cancer dataset: \",np.sum(1-(LinSVC2.coef_==0)))"
      ],
      "execution_count": null,
      "outputs": [
        {
          "output_type": "stream",
          "text": [
            "nb of selected featurs on Golub dataset:  34\n",
            "nb of selected featurs on Breast Cancer dataset:  20\n"
          ],
          "name": "stdout"
        },
        {
          "output_type": "stream",
          "text": [
            "/usr/local/lib/python3.6/dist-packages/sklearn/utils/validation.py:760: DataConversionWarning: A column-vector y was passed when a 1d array was expected. Please change the shape of y to (n_samples, ), for example using ravel().\n",
            "  y = column_or_1d(y, warn=True)\n",
            "/usr/local/lib/python3.6/dist-packages/sklearn/svm/_base.py:947: ConvergenceWarning: Liblinear failed to converge, increase the number of iterations.\n",
            "  \"the number of iterations.\", ConvergenceWarning)\n"
          ],
          "name": "stderr"
        }
      ]
    },
    {
      "cell_type": "code",
      "metadata": {
        "id": "OxeUF8KAzn5Q",
        "outputId": "1aa8d773-83c8-4813-9637-7a14a1c83431",
        "colab": {
          "base_uri": "https://localhost:8080/",
          "height": 55
        }
      },
      "source": [
        "ElasNet1=ElasticNet(alpha=0.01, l1_ratio=0.7)\n",
        "ElasNet1.fit(Golub_X,Golub_y)\n",
        "print(\"nb of selected featurs on Golub dataset: \",ElasNet1.sparse_coef_.getnnz())\n",
        "\n",
        "ElasNet2=ElasticNet(alpha=0.1, l1_ratio=0.7)\n",
        "ElasNet2.fit(Breast_X,Breast_y)\n",
        "print(\"nb of selected featurs on Breast Cancer dataset: \",ElasNet2.sparse_coef_.getnnz())"
      ],
      "execution_count": null,
      "outputs": [
        {
          "output_type": "stream",
          "text": [
            "nb of selected featurs on Golub dataset:  39\n",
            "nb of selected featurs on Breast Cancer dataset:  8\n"
          ],
          "name": "stdout"
        }
      ]
    },
    {
      "cell_type": "code",
      "metadata": {
        "id": "zMSd_DVG6Y68",
        "outputId": "b25b6098-7550-48de-9440-29a4e3f89b9a",
        "colab": {
          "base_uri": "https://localhost:8080/",
          "height": 92
        }
      },
      "source": [
        "print(\"accuracy on Golub dataset\")\n",
        "print(\"accuracy score lasso Regression: \",LassoReg1.score(Golub_X,Golub_y))\n",
        "print(\"accuracy score linear SVC: \",LinSVC1.score(Golub_X,Golub_y))\n",
        "print(\"accuracy score Elastic Net: \",ElasNet1.score(Golub_X,Golub_y))\n"
      ],
      "execution_count": null,
      "outputs": [
        {
          "output_type": "stream",
          "text": [
            "accuracy on Golub dataset\n",
            "accuracy score lasso Regression:  0.9167956496002763\n",
            "accuracy score linear SVC:  1.0\n",
            "accuracy score Elastic Net:  0.9477408938453592\n"
          ],
          "name": "stdout"
        }
      ]
    },
    {
      "cell_type": "code",
      "metadata": {
        "id": "L72yMHE07REo",
        "outputId": "8bde5a41-220c-47af-b701-8812720d653f",
        "colab": {
          "base_uri": "https://localhost:8080/",
          "height": 92
        }
      },
      "source": [
        "print(\"accuracy on Breast Cancer dataset\")\n",
        "print(\"accuracy score lasso Regression: \",LassoReg2.score(Breast_X,Breast_y))\n",
        "print(\"accuracy score linear SVC: \",LinSVC2.score(Breast_X,Breast_y))\n",
        "print(\"accuracy score Elastic Net: \",ElasNet2.score(Breast_X,Breast_y))"
      ],
      "execution_count": null,
      "outputs": [
        {
          "output_type": "stream",
          "text": [
            "accuracy on Breast Cancer dataset\n",
            "accuracy score lasso Regression:  0.7012932085802082\n",
            "accuracy score linear SVC:  0.9911971830985915\n",
            "accuracy score Elastic Net:  0.7125906479454109\n"
          ],
          "name": "stdout"
        }
      ]
    },
    {
      "cell_type": "code",
      "metadata": {
        "id": "Bf34ISHM3VoZ",
        "outputId": "aaf3beec-83c6-4d72-d19f-d31aa3cdc429",
        "colab": {
          "base_uri": "https://localhost:8080/",
          "height": 36
        }
      },
      "source": [
        "print(\"linear SVC is the best on both datasets\")"
      ],
      "execution_count": null,
      "outputs": [
        {
          "output_type": "stream",
          "text": [
            "linear SVC is the best on both datasets\n"
          ],
          "name": "stdout"
        }
      ]
    }
  ]
}